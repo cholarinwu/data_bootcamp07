{
  "nbformat": 4,
  "nbformat_minor": 0,
  "metadata": {
    "colab": {
      "provenance": [],
      "authorship_tag": "ABX9TyO+7hfnRkJGl5pz7U/+bIF6",
      "include_colab_link": true
    },
    "kernelspec": {
      "name": "python3",
      "display_name": "Python 3"
    },
    "language_info": {
      "name": "python"
    }
  },
  "cells": [
    {
      "cell_type": "markdown",
      "metadata": {
        "id": "view-in-github",
        "colab_type": "text"
      },
      "source": [
        "<a href=\"https://colab.research.google.com/github/cxwmintz/data_bootcamp07/blob/main/HW2_Pao_Ying_Chub.ipynb\" target=\"_parent\"><img src=\"https://colab.research.google.com/assets/colab-badge.svg\" alt=\"Open In Colab\"/></a>"
      ]
    },
    {
      "cell_type": "markdown",
      "source": [
        "# Pao Ying Chub Game\n",
        "Creating a rock, paper, scissor game in python\n",
        "- Collect and finalize score"
      ],
      "metadata": {
        "id": "kVjrhLohre5R"
      }
    },
    {
      "cell_type": "code",
      "execution_count": null,
      "metadata": {
        "colab": {
          "base_uri": "https://localhost:8080/",
          "height": 539
        },
        "id": "QpadPf4_rWN0",
        "outputId": "de25ef95-fdf1-4408-fc0c-283569788ec9"
      },
      "outputs": [
        {
          "output_type": "stream",
          "name": "stdout",
          "text": [
            "Welcome to Pao Ying Chub v.2\n",
            "This version is made in python.\n",
            "If you win you will gain 1 score and no score if you lose.\n",
            "\n",
            "Would you like to begin the game? [Y/N] y\n",
            "Please select the following options: ['rock', 'paper', 'scissor'].\n",
            "Or type 'quit' to exit the game. rock\n",
            "\n",
            "You: rock. Bot: paper. You lose!\n",
            "Please select the following options: ['rock', 'paper', 'scissor'].\n",
            "Or type 'quit' to exit the game. r\n",
            "\n",
            "Incorrect option, please try again.\n",
            "Please select the following options: ['rock', 'paper', 'scissor'].\n",
            "Or type 'quit' to exit the game. paper\n",
            "\n",
            "You: paper. Bot: rock. You won!\n",
            "Please select the following options: ['rock', 'paper', 'scissor'].\n",
            "Or type 'quit' to exit the game. r\n",
            "\n",
            "Incorrect option, please try again.\n",
            "Please select the following options: ['rock', 'paper', 'scissor'].\n",
            "Or type 'quit' to exit the game. rock\n",
            "\n",
            "It's a tie.\n",
            "Please select the following options: ['rock', 'paper', 'scissor'].\n",
            "Or type 'quit' to exit the game. quit\n",
            "\n",
            "Incorrect option, please try again.\n"
          ]
        },
        {
          "output_type": "execute_result",
          "data": {
            "text/plain": [
              "\"Thank you for playing, after playing 3 rounds, you've scored 1 pts against the bot's score of 1 pts.\""
            ],
            "application/vnd.google.colaboratory.intrinsic+json": {
              "type": "string"
            }
          },
          "metadata": {},
          "execution_count": 26
        }
      ],
      "source": [
        "import random\n",
        "def gamebot():\n",
        "    print(\"Welcome to Pao Ying Chub v.2\\nThis version is made in python.\\nIf you win you will gain 1 score and no score if you lose.\")\n",
        "\n",
        "    start = input(\"\\nWould you like to begin the game? [Y/N] \")\n",
        "    start = start.lower()\n",
        "    options = [\"rock\",\"paper\",\"scissor\"]\n",
        "    exit_conditions = [\"quit\",\"q\",\"exit\",\"end\"]\n",
        "    user_score = 0\n",
        "    bot_score = 0\n",
        "    counter = 0\n",
        "\n",
        "    if start == \"y\":\n",
        "        while True:\n",
        "            user = input(f\"Please select the following options: {options}.\\nOr type 'quit' to exit the game. \")\n",
        "            bot = random.choice(options)\n",
        "            # tie\n",
        "            if user == bot:\n",
        "                print(\"\\nIt's a tie.\")\n",
        "                counter += 1\n",
        "\n",
        "            # user won\n",
        "            elif user == \"rock\" and bot == \"scissor\":\n",
        "                print(f\"\\nYou: {user}. Bot: {bot}. You won!\")\n",
        "                user_score += 1\n",
        "                counter += 1\n",
        "            elif user == \"scissor\" and bot == \"paper\":\n",
        "                print(f\"\\nYou: {user}. Bot: {bot}. You won!\")\n",
        "                user_score += 1\n",
        "                counter += 1\n",
        "            elif user == \"paper\" and bot == \"rock\":\n",
        "                print(f\"\\nYou: {user}. Bot: {bot}. You won!\")\n",
        "                user_score += 1\n",
        "                counter += 1\n",
        "\n",
        "            # bot won\n",
        "            elif user == \"rock\" and bot == \"paper\":\n",
        "                print(f\"\\nYou: {user}. Bot: {bot}. You lose!\")\n",
        "                bot_score += 1\n",
        "                counter += 1\n",
        "            elif user == \"scissor\" and bot == \"rock\":\n",
        "                print(f\"\\nYou: {user}. Bot: {bot}. You lose!\")\n",
        "                bot_score += 1\n",
        "                counter += 1\n",
        "            elif user == \"paper\" and bot == \"scissor\":\n",
        "                print(f\"\\nYou: {user}. Bot: {bot}. You lose!\")\n",
        "                bot_score += 1\n",
        "                counter += 1\n",
        "\n",
        "            # wrong input\n",
        "            else:\n",
        "                print(\"\\nIncorrect option, please try again.\")\n",
        "\n",
        "            if user in exit_conditions:\n",
        "                return f\"Thank you for playing, after playing {counter} rounds, you've scored {user_score} pts against the bot's score of {bot_score} pts.\"\n",
        "\n",
        "    else:\n",
        "        print(\"Incorrect response. Game has ended.\")\n",
        "\n",
        "gamebot()"
      ]
    }
  ]
}
