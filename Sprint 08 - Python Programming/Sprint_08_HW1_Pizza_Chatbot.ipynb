{
  "nbformat": 4,
  "nbformat_minor": 0,
  "metadata": {
    "colab": {
      "provenance": [],
      "authorship_tag": "ABX9TyM/1erqr8u55feh/tG0AYKP",
      "include_colab_link": true
    },
    "kernelspec": {
      "name": "python3",
      "display_name": "Python 3"
    },
    "language_info": {
      "name": "python"
    }
  },
  "cells": [
    {
      "cell_type": "markdown",
      "metadata": {
        "id": "view-in-github",
        "colab_type": "text"
      },
      "source": [
        "<a href=\"https://colab.research.google.com/github/cxwmintz/data_bootcamp07/blob/main/Sprint%2008%20-%20Python%20Programming/Sprint_08_HW1_Pizza_Chatbot.ipynb\" target=\"_parent\"><img src=\"https://colab.research.google.com/assets/colab-badge.svg\" alt=\"Open In Colab\"/></a>"
      ]
    },
    {
      "cell_type": "markdown",
      "source": [
        "# Pizza Chatbot\n",
        "Created a chatbot to order pizza with the following functions:\n",
        "- Collecting information:\n",
        "    1. Customer details (name, phone no.)\n",
        "    2. Pizza crust (thin/thick crust)\n",
        "    3. Pizza toppings (hawaiian, new orleans chickens, pepperoni)\n",
        "    4. Pizza sauce (BBQ, pesto)\n",
        "- Summarize total price"
      ],
      "metadata": {
        "id": "Ds5L5HPx7_TZ"
      }
    },
    {
      "cell_type": "code",
      "source": [
        "def chatbot():\n",
        "    a = 0\n",
        "    price = 0\n",
        "    exit_conditions = (\"q\", \"quit\", \"n\", \"no\")\n",
        "    while a == 0:\n",
        "        i = input(\"Hi! Welcome to BKK Pizzeria! Would you like to order a pizza? [Y/N] \")\n",
        "        i = i.lower()\n",
        "        # crust = (\"thin\",\"thick\")\n",
        "        # topping = (\"hawaiian\",\"new orleans chickens\",\"pepperoni\")\n",
        "        # sauce = (\"bbq\",\"pesto\")\n",
        "\n",
        "        if i in exit_conditions:\n",
        "            return \"Good bye, hope to see you again soon!\"\n",
        "\n",
        "        elif i == \"y\":\n",
        "\n",
        "            b = 0\n",
        "            c = 0\n",
        "            d = 0\n",
        "\n",
        "            while b == 0:\n",
        "                j = input(\"What pizza crust would you like? [(1) thin, (2) thick] \")\n",
        "                if j == \"1\":\n",
        "                    crust = \"thin\"\n",
        "                    b += 1\n",
        "                    price += 100\n",
        "                elif j == \"2\":\n",
        "                    crust = \"thick\"\n",
        "                    b += 1\n",
        "                    price += 150\n",
        "                else:\n",
        "                    print(\"Please select either '1' or '2'.\")\n",
        "\n",
        "            while c == 0:\n",
        "                k = input(\"What topping would you want your pizza to have? [(1) hawaiian, (2) new orleans chickens, (3) pepperoni] \")\n",
        "                if k == \"1\":\n",
        "                    topping = \"hawaiian\"\n",
        "                    c += 1\n",
        "                    price += 75\n",
        "                elif k == \"2\":\n",
        "                    topping = \"new orleans chickens\"\n",
        "                    c += 1\n",
        "                    price += 50\n",
        "                elif k == \"3\":\n",
        "                    topping = \"pepperoni\"\n",
        "                    c += 1\n",
        "                    price += 25\n",
        "                else:\n",
        "                    print(\"Please select either '1', '2', or '3'.\")\n",
        "\n",
        "            while d == 0:\n",
        "                l = input(\"What sauce do you prefer? [(1) BBQ, (2) pesto] \")\n",
        "                if l == \"1\":\n",
        "                    sauce = \"BBQ\"\n",
        "                    d += 1\n",
        "                    price += 10\n",
        "                elif l == \"2\":\n",
        "                    sauce = \"pesto\"\n",
        "                    d += 1\n",
        "                    price += 15\n",
        "                else:\n",
        "                    print(\"Please select either '1' or '2'.\")\n",
        "\n",
        "            e = 0\n",
        "            while e == 0:\n",
        "                price = str(price)\n",
        "                m = input(\"Here are your orders: '\"+crust+\"' crust with '\"+topping+\"' toppings and '\"+sauce+\"' sauce. Total: \"+price+\" baht.\\nWould you like to confirm this order or try again? [(1) confirm (2) redo] \")\n",
        "                if m == \"1\":\n",
        "                    f = 0\n",
        "                    while f == 0:\n",
        "                        print(\"Please give us your name and mobile no. so we can contact you.\")\n",
        "\n",
        "                        n = input(\"Name: \")\n",
        "                        n = n.title()\n",
        "\n",
        "                        o = input(\"Mobile no.: \")\n",
        "\n",
        "                        print(\"\\nMr/Mrs. \"+n+\"\\nTel.: \"+o)\n",
        "                        p = input(\"Is this information correct? [Y/N] \")\n",
        "                        p = p.lower()\n",
        "\n",
        "                        if p == \"y\":\n",
        "                            print(\"\\nThank you Mr/Mrs. \"+ n + \" for ordering with BKK Pizzeria, we'll contact you as soon as your pizza is complete.\")\n",
        "                            f += 1\n",
        "                            a += 1\n",
        "                            e += 1\n",
        "                elif m == \"2\":\n",
        "                    e += 1\n",
        "                    price = 0\n",
        "                else:\n",
        "                    print(\"Please select either '1' or '2'.\")\n",
        "\n",
        "\n",
        "        else:\n",
        "            print(\"I'm sorry, I don't understand your request.\")\n",
        "\n",
        "chatbot()\n",
        "\n"
      ],
      "metadata": {
        "colab": {
          "base_uri": "https://localhost:8080/"
        },
        "id": "ehXcv_qFw0Jb",
        "outputId": "2f246c61-c470-41e6-b82d-a1c764b3159d"
      },
      "execution_count": null,
      "outputs": [
        {
          "output_type": "stream",
          "name": "stdout",
          "text": [
            "Hi! Welcome to BKK Pizzeria! Would you like to order a pizza? [Y/N] y\n",
            "What pizza crust would you like? [(1) thin, (2) thick] 2\n",
            "What topping would you want your pizza to have? [(1) hawaiian, (2) new orleans chickens, (3) pepperoni] 1\n",
            "What sauce would you like? [(1) BBQ, (2) pesto] 2\n",
            "Here are your orders: 'thick' crust with 'hawaiian' toppings and 'pesto' sauce. Total: 240 baht.\n",
            "Would you like to confirm this order or try again? [(1) confirm (2) redo] 1\n",
            "Please give us your name and mobile no. so we can contact you.\n",
            "Name: Mint\n",
            "Mobile no.: 000000000\n",
            "\n",
            "Mr/Mrs. Mint\n",
            "Tel.: 000000000\n",
            "Is this information correct? [Y/N] y\n",
            "\n",
            "Thank you Mr/Mrs. Mint for ordering with BKK Pizzeria, we'll contact you as soon as your pizza is complete.\n"
          ]
        }
      ]
    }
  ]
}