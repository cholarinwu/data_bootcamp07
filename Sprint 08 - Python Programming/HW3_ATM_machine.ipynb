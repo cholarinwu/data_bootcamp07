{
  "nbformat": 4,
  "nbformat_minor": 0,
  "metadata": {
    "colab": {
      "provenance": [],
      "authorship_tag": "ABX9TyP3Y0QYKo2QNAZHFhm+DDFf",
      "include_colab_link": true
    },
    "kernelspec": {
      "name": "python3",
      "display_name": "Python 3"
    },
    "language_info": {
      "name": "python"
    }
  },
  "cells": [
    {
      "cell_type": "markdown",
      "metadata": {
        "id": "view-in-github",
        "colab_type": "text"
      },
      "source": [
        "<a href=\"https://colab.research.google.com/github/cxwmintz/data_bootcamp07/blob/main/Sprint%2008%20-%20Python%20Programming/HW3_ATM_machine.ipynb\" target=\"_parent\"><img src=\"https://colab.research.google.com/assets/colab-badge.svg\" alt=\"Open In Colab\"/></a>"
      ]
    },
    {
      "cell_type": "markdown",
      "source": [
        "# ATM Machine\n",
        "Replicating an ATM Machine using python's OOP with the following functions:\n",
        "\n",
        "1. Deposit money\n",
        "2. Withdraw money\n",
        "3. Check balance\n",
        "4. Transfer money\n",
        "5. Exit"
      ],
      "metadata": {
        "id": "PAL9snsHj5eD"
      }
    },
    {
      "cell_type": "code",
      "execution_count": null,
      "metadata": {
        "colab": {
          "base_uri": "https://localhost:8080/"
        },
        "id": "Jph-Y8m1jkzW",
        "outputId": "71e6eb4d-c574-41ac-d125-573aeab58db0"
      },
      "outputs": [
        {
          "output_type": "stream",
          "name": "stdout",
          "text": [
            "You have deposited 10,000 baht. You now have 11,000 baht left.\n",
            "You have withdrawn 200,000 baht. You now have -189,000 baht left.\n",
            "Your current balance is: -189,000 baht.\n",
            "You have transferred 100,000 baht to K.anna.\n",
            "Your current balance is: -289,000 baht.\n",
            "Thank you for using our service. Have a good day mint!\n"
          ]
        }
      ],
      "source": [
        "class ATM:\n",
        "    def __init__(self, name, bank, balance):\n",
        "        self.name = name\n",
        "        self.bank = bank\n",
        "        self.balance = balance\n",
        "\n",
        "    def deposit(self,amt):\n",
        "        self.balance += amt\n",
        "        print(f\"You have deposited {amt:,} baht. You now have {self.balance:,} baht left.\")\n",
        "\n",
        "    def withdraw(self,amt):\n",
        "        self.balance -= amt\n",
        "        print(f\"You have withdrawn {amt:,} baht. You now have {self.balance:,} baht left.\")\n",
        "\n",
        "    def check(self):\n",
        "        print(f\"Your current balance is: {self.balance:,} baht.\")\n",
        "\n",
        "    def transfer(self,name,amt):\n",
        "        self.balance -= amt\n",
        "        print(f\"You have transferred {amt:,} baht to K.{name}.\")\n",
        "\n",
        "    def end(self):\n",
        "        print(f\"Thank you for using our service. Have a good day {self.name}!\")\n",
        "\n",
        "a = ATM(\"mint\",\"kbank\",1000)\n",
        "\n",
        "a.deposit(10000)\n",
        "a.withdraw(200000)\n",
        "a.check()\n",
        "a.transfer(\"anna\",100000)\n",
        "a.check()\n",
        "a.end()"
      ]
    }
  ]
}